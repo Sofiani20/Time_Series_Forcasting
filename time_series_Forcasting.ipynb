{
 "cells": [
  {
   "cell_type": "markdown",
   "metadata": {},
   "source": [
    "## A Time Serie (TS) is a series of data points indexed (or listed or graphed) in time order\n",
    "## TS Forcasting is the use of a model to predict future values based on previously observed values"
   ]
  },
  {
   "cell_type": "markdown",
   "metadata": {},
   "source": [
    "#### TS forcasting is used by:\n",
    "* retail industry\n",
    "* energy industry\n",
    "* government\n",
    "* financial organization\n",
    "* agriculture ..etc"
   ]
  },
  {
   "cell_type": "markdown",
   "metadata": {},
   "source": [
    "### Forcasting process\n",
    "1. Goal definition\n",
    "2. Get data                        (Aller et retour entre 2 & 3; des fois et presque 60% du processus)\n",
    "3. Explore and Visualize series \n",
    "4. pre_processing\n",
    "5. Partition series\n",
    "6. Apply forcesting methods (appliquer tout une serie de model de forcasting)\n",
    "7. Evaluate and compare performance (choose the best model) Allé et retour entre 6 & 7\n",
    "8. implement forcasts/system\n"
   ]
  },
  {
   "cell_type": "markdown",
   "metadata": {},
   "source": [
    "### Descriptive goal (TS analysis)\n",
    "On accorde plus d'importance au methodes expliquant bien la TS\n",
    "### Predictive goal (TS forcasting)\n",
    "On cherche le model donnant le plus de précision même si il est difficilement explicable"
   ]
  },
  {
   "cell_type": "markdown",
   "metadata": {},
   "source": [
    "### Forcasting Horizon k is the number of period ahead that we must forcast"
   ]
  },
  {
   "cell_type": "markdown",
   "metadata": {},
   "source": [
    "### Binary forcastn(e.g predict if it will rain tomorrow or not)\n",
    "### numerical forat (e.g predict average temperature of tomoroww)"
   ]
  },
  {
   "cell_type": "code",
   "execution_count": null,
   "metadata": {},
   "outputs": [],
   "source": []
  },
  {
   "cell_type": "code",
   "execution_count": null,
   "metadata": {},
   "outputs": [],
   "source": []
  }
 ],
 "metadata": {
  "kernelspec": {
   "display_name": "Python 3",
   "language": "python",
   "name": "python3"
  },
  "language_info": {
   "codemirror_mode": {
    "name": "ipython",
    "version": 3
   },
   "file_extension": ".py",
   "mimetype": "text/x-python",
   "name": "python",
   "nbconvert_exporter": "python",
   "pygments_lexer": "ipython3",
   "version": "3.8.5"
  }
 },
 "nbformat": 4,
 "nbformat_minor": 4
}
